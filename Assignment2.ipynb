{
  "cells": [
    {
      "cell_type": "markdown",
      "source": [
        " # Assignment 2\n",
        "_First_ we must be **bold**\n",
        "* Students:\n",
        "    * Davíð\n",
        "    * Eric\n"
      ],
      "metadata": {}
    },
    {
      "cell_type": "markdown",
      "source": [
        " ## 1. A company is considering using a system that will allow management to track staff behaviour in real-time, gather data on when and who they email,\n",
        " ## who accesses and edits files, and who meets whom when. The HR (human resources, or personnel) department at the company is in favour of\n",
        " ## introducing this new system and believes it will benefit the staff at the company. The company's management is also in favour.\n",
        " ## Discuss whether introducing this system raises potential ethical issues.\n",
        "One useful approach to this issue is to look\n",
        "at the benefits and costs that the stakeholders of the company would incur.\n",
        "This system would benefit HR and the company's management in several ways.\n",
        "Good communication within a company is vital for a company's success.\n",
        "The HR department could see if there are individuals or groups within\n",
        "the company that should be communicating but are not. They could then\n",
        "potentially rectify the situation before the lack of communication has adverse\n",
        "consequences.\n",
        "\n",
        "This data collection would also beneficial for getting some\n",
        "indication of who's productive and who's not. Workers who are productive\n",
        "tend to access more files, email and meet more people. But this is an imperfect\n",
        "indicator of performance so more in-depth analysis of an individuals performance\n",
        "would have to be performed as well.\n",
        "\n",
        "But from the standpoint of the individual worker, the introduction of this\n",
        "system may not seem like a step in the right direction. The feeling of someone\n",
        "constantly looking over your shoulder can give the impression that the company\n",
        "doesn't trust you to do a good enough job on your own. Put in another way; if the comapny's interest don't align well enough with yours, you will probably feel like you are not on the same team then as the management and HR. That would have a bad effect on the company's morale and performance.\n",
        "\n",
        "It then seems that HR and management have only something to gain and others\n",
        "within the company have only something to lose. But this all depends on how\n",
        "this system will be implemented and used. The company's management and HR could\n",
        "have a policy of trusting the workers to do a good job (i.e. not looking and\n",
        "analyzing the data on a regular basis) but using it only in cases of dispute,\n",
        "where it's not clear who's responsible. This would benefit HR and management\n",
        "but also employees, as more data is beneficial in the case of disputes.\n",
        "\n",
        "The final outcome of the introduction of this system comes down to whether or not we can trust the HR department and the company's management\n",
        "not to misuse the data. As such, there needs to be clear definitions of how the data will be used or employees could come to see unreasonable many negative effects in the future.\n",
        "\n",
        "\\dot{x} & = \\sigma(y-x) \\\\\n"
      ],
      "metadata": {}
    },
    {
      "cell_type": "code",
      "source": [
        "from lxml import html\n",
        "from lxml import etree\n",
        "import requests\n",
        "from io import StringIO, BytesIO\n",
        "import re\n",
        "\n",
        "# for i in range(1, 11):\n",
        "url = 'https://www.hemnet.se/salda/bostader?location_ids%5B%5D=474180&page=1&sold_age=all'\n",
        "data = requests.get(url).text\n",
        "\n",
        "parser = etree.HTMLParser(encoding=\"UTF-8\")\n",
        "tree = etree.parse(StringIO(data), parser)\n",
        "\n",
        "addresses = tree.xpath('//div[@class=\"sold-property-listing\"]/div[@class=\"sold-property-listing__location\"]/h2[@class=\"sold-property-listing__heading\"]/span[@class=\"item-result-meta-attribute-is-bold item-link\"]/text()')\n",
        "\n",
        "prices = tree.xpath('//div[@class=\"sold-property-listing\"]/div[@class=\"sold-property-listing__price\"]/div[@class=\"clear-children\"]/span[@class=\"sold-property-listing__subheading sold-property-listing--left\"]/text()')\n",
        "prices = list(map(lambda x: re.sub(\"\\xa0\", \"\", x), prices))\n",
        "prices = list(map(lambda x: re.sub(\"\\n(.*)Slutpris \", \"\", x), prices))\n",
        "prices = list(map(lambda x: re.sub(\" kr\\n\", \"\", x), prices))\n",
        "prices\n",
        "\n",
        "size = tree.xpath('//div[@class=\"sold-property-listing__subheading sold-property-listing--left\"]/text()')\n",
        "size = list(map(lambda x: re.sub(\"\\xa0m\", \"\")"
      ],
      "outputs": [],
      "execution_count": null,
      "metadata": {
        "collapsed": false,
        "outputHidden": false,
        "inputHidden": false
      }
    }
  ],
  "metadata": {
    "kernelspec": {
      "argv": [
        "/Users/davidfreyrbjornsson/anaconda3/bin/python",
        "-m",
        "ipykernel_launcher",
        "-f",
        "{connection_file}"
      ],
      "display_name": "base",
      "language": "python",
      "name": "base"
    }
  },
  "nbformat": 4,
  "nbformat_minor": 0
}